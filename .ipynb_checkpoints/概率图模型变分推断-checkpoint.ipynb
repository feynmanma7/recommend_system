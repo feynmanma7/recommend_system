{
 "cells": [
  {
   "cell_type": "markdown",
   "metadata": {
    "collapsed": true
   },
   "source": [
    "<h1>变分推断 Variational Inference</h1>\n",
    "\n",
    "# 1. 变分推断\n",
    "在EM算法中，需要计算包含隐变量$Z$的完整数据$(X,Z)$的对数似然的期望$E(\\ln p(X,Z|\\theta))$，然后利用极大似然法计算$\\theta$。如果隐变量$Z$的后验分布或者对数似然的期望难以计算，则很难使用EM算法。\n",
    "\n",
    "对于观测数据$X$与隐含变量$Z$，将其视作完整数据$(X, Z)$，其对数似然为:\n",
    "\n",
    "> $\\ln p(X,Z|\\theta) = \\ln p(X|\\theta) + \\ln p(Z|X, \\theta)$\n",
    "\n",
    "从而， \n",
    "\n",
    "> $\\ln p(X|\\theta) = \\ln p(X, Z|\\theta) - \\ln p(Z|X, \\theta)$\n",
    "\n",
    "引入分布$q(Z)$， \n",
    "\n",
    "> $\\ln p(X) = \\ln p(X, Z) - \\ln p(Z|X) = \\int q(Z)\\{\\ln p(X, Z) - \\ln p(Z|X)\\}dZ $\n",
    "\n",
    "> $= \\int q(Z)\\{\\ln \\frac{p(X, Z)}{q(Z)} - \\frac{\\ln p(Z|X)}{q(Z)}\\}dZ $\n",
    "\n",
    "> $= \\int q(Z)\\ln\\frac{p(X, Z)}{q(Z)} dZ - \\int q(Z) \\ln\\frac{p(Z|X)}{q(Z)}dZ$\n",
    "\n",
    "> $= \\int q(Z)\\ln\\frac{p(X, Z)}{q(Z)} dZ + \\int q(Z) \\ln\\frac{q(Z)}{p(Z|X)}dZ$\n",
    "\n",
    "> $=L(q) + KL(q||p)$\n",
    "\n",
    "由于$KL(q||p)>=0$，所以$\\ln p(X) >= L(q)$，即$L(q)$是$\\ln p(X)$的下界。\n",
    "\n",
    "使得$L(q) = \\ln p(X)$的$q$的选择，有$KL(q||p)=0$，即$q$正好等于$Z$的后验分布$p(Z|X)$。当$p(Z|X)$难以计算时，可以通过选择$q(Z)$来<b>接近</b>$p(Z|X)$，使得$KL(q||p)$取得最小值。\n",
    "\n",
    "\n",
    "## 分布分解\n",
    "\n",
    "需要选择函数族$q(Z)$来接近$p(Z|X)$，其中一种方式是将$Z$分解为不相交的组$Z_i, i=1,2,...,M$。假设$q$分布能够根据这些组分解为\n",
    "\n",
    "> $q(Z) = \\prod_{i=1}^{M}q_i(Z_i)$\n",
    "\n",
    "对$q_i$并不做任何分布上的假设。这种分布分解的变分方法在物理学上被称为“平均场论“（mean field thoery）。\n",
    "\n"
   ]
  },
  {
   "cell_type": "markdown",
   "metadata": {},
   "source": [
    "考虑某个特定的子变量$q_j(Z_j)$， \n",
    "\n",
    "> $L(q) = \\int q(Z) \\ln\\frac{p(X, Z)}{q(Z)} dZ = \\int q(Z) \\ln p(X, Z) dZ - \\int q(Z) \\ln q(Z) dZ$"
   ]
  },
  {
   "cell_type": "markdown",
   "metadata": {},
   "source": [
    "> $\\int q(Z) \\ln\\frac{p(X, Z)}{q(Z)} dZ= \\int \\ln p(X, Z) \\prod_{i=1}^{M}q_i(Z_i)dZ_i $\n",
    "\n",
    "> $ = \\int q_j(Z_j) \\int \\{ \\ln p(X, Z) \\prod_{i\\ne j}^{M}q_i(Z_i)dZ_i \\} dZ_j $ \n",
    "\n",
    "> $ = \\int q_j(Z_j) E_{i\\ne j}(\\ln p(X, Z)) dZ_j$"
   ]
  },
  {
   "cell_type": "markdown",
   "metadata": {},
   "source": [
    "> $\\int q(Z) \\ln q(Z) dZ = \\int \\{\\prod_{i=1}^{M}q_i(Z_i)\\}\\ln \\{\\prod_{i=1}^{M}q_i(Z_i)\\} dZ$\n",
    "\n",
    "> $ = \\int \\{\\prod_{i=1}^{M}q_i(Z_i)\\} \\{\\sum_{i=1}^{M} \\ln q_i(Z_i)\\} dZ$\n",
    "\n",
    "> $ = \\sum_{i=1}^{M} \\int \\{ \\prod_{k=1}^{M}q_k(Z_k) \\} \\ln q_i(Z_i) dZ$\n",
    "\n",
    "> $ = \\sum_{i=1}^{M} \\{ \\int \\prod_{k \\ne i}^{M} q_k(Z_k) dZ_k \\} \\{\\int q_i \\ln q_i(Z_i) dZ_i\\} $\n",
    "\n",
    "> $ = \\sum_{i=1}^{M} \\{ \\prod_{k \\ne i}^{M} \\int q_k(Z_k) dZ_k \\} \\{\\int q_i \\ln q_i(Z_i) dZ_i\\} $\n",
    "\n",
    "> $ = \\sum_{i=1}^{M} \\{\\int q_i \\ln q_i(Z_i) dZ_i\\} $\n",
    "\n",
    "因为 $\\int q_k(Z_k) dZ_k = 1$。\n",
    "\n",
    "考虑$q_j(Z_j)$， 上式等于，\n",
    "\n",
    "> $ \\int q_j \\ln q_j(Z_j) dZ_j + \\sum_{i \\ne j}^{M} \\int q_i \\ln q_i(Z_i) dZ_i$\n",
    "\n",
    "> $ = \\int q_j \\ln q_j(Z_j) dZ_j + const$\n"
   ]
  },
  {
   "cell_type": "markdown",
   "metadata": {},
   "source": [
    "所以， \n",
    "\n",
    "> $L(q_j(Z_j)) = \\int q_j(Z_j) E_{i\\ne j}(\\ln p(X, Z)) dZ_j - \\int q_j \\ln q_j(Z_j) dZ_j + const$\n",
    "\n",
    "> $ = \\int q_j(Z_j) \\frac{E_{i\\ne j}(\\ln p(X, Z))}{\\ln q_j(Z_j)}dZ_j + const$\n",
    "\n",
    "> $ = - \\int q_j(Z_j) \\frac{\\ln q_j(Z_j)}{E_{i\\ne j}(\\ln p(X, Z))}dZ_j + const$\n",
    "\n",
    "> $ = - KL(\\ln q_j(Z_j) || E_{i\\ne j}(\\ln p(X, Z))) + const$\n",
    "\n",
    "当 $\\ln q_j^{*}(Z_j) = E_{i\\ne j}(\\ln p(X, Z))$时，KL取得最小值，$L(q_j(Z_j))$取得最大值。\n",
    "\n"
   ]
  },
  {
   "cell_type": "markdown",
   "metadata": {},
   "source": [
    "变分推断的两大要素：\n",
    "\n",
    "> + 选择隐变量合适的分解方式；\n",
    "\n",
    "> + 选择各个变量子集服从的分布；"
   ]
  },
  {
   "cell_type": "markdown",
   "metadata": {},
   "source": []
  }
 ],
 "metadata": {
  "kernelspec": {
   "display_name": "Python 3",
   "language": "python",
   "name": "python3"
  },
  "language_info": {
   "codemirror_mode": {
    "name": "ipython",
    "version": 3
   },
   "file_extension": ".py",
   "mimetype": "text/x-python",
   "name": "python",
   "nbconvert_exporter": "python",
   "pygments_lexer": "ipython3",
   "version": "3.6.3"
  }
 },
 "nbformat": 4,
 "nbformat_minor": 2
}
