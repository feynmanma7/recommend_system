{
 "cells": [
  {
   "cell_type": "markdown",
   "metadata": {},
   "source": [
    "<h1>概率分布</h1>\n",
    "\n",
    "\n",
    "<b>参考文献</b>\n",
    "\n",
    "[1] PRML, Chapter 2.\n",
    "\n",
    "[2] MLAPP, Chapter 2. \n",
    "\n",
    "# 0. 概率\n",
    "\n",
    "## 频率学派\n",
    "概率代表某个事物多次实验中发生的频度。\n",
    "\n",
    "## 贝叶斯学派\n",
    "概率代表某个事物发展的不确定性。\n",
    "\n",
    "贝叶斯学派的好处是，并不需要真的进行多次实验。\n",
    "\n",
    "# 1. 二元变量\n",
    "\n",
    "# 2. 多元变量\n",
    "\n",
    "# 3. 高斯分布\n",
    "\n",
    "# 4. 指数族\n",
    "\n",
    "# 5. 非参数方法"
   ]
  },
  {
   "cell_type": "code",
   "execution_count": null,
   "metadata": {
    "collapsed": true
   },
   "outputs": [],
   "source": []
  }
 ],
 "metadata": {
  "kernelspec": {
   "display_name": "Python 3",
   "language": "python",
   "name": "python3"
  },
  "language_info": {
   "codemirror_mode": {
    "name": "ipython",
    "version": 3
   },
   "file_extension": ".py",
   "mimetype": "text/x-python",
   "name": "python",
   "nbconvert_exporter": "python",
   "pygments_lexer": "ipython3",
   "version": "3.6.3"
  }
 },
 "nbformat": 4,
 "nbformat_minor": 2
}
