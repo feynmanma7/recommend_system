{
 "cells": [
  {
   "cell_type": "markdown",
   "metadata": {},
   "source": [
    "<h1>概率分布</h1>\n",
    "\n",
    "\n",
    "<b>参考文献</b>\n",
    "\n",
    "[1] PRML, Chapter 2.\n",
    "\n",
    "[2] MLAPP, Chapter 2. \n",
    "\n",
    "# 0. 概率\n",
    "\n",
    "## 0.1 什么是概率\n",
    "### 频率学派\n",
    "概率代表某个事物多次实验中发生的频度。\n",
    "\n",
    "### 贝叶斯学派\n",
    "概率代表某个事物发展的不确定性。\n",
    "\n",
    "贝叶斯学派的好处是，并不需要真的进行多次实验。\n",
    "\n",
    "## 0.2 乘法规则 & 加法规则\n",
    "\n",
    "### 乘法规则 \n",
    "> $p(A, B) = p(A \\land B) = p (A|B)p(B)$\n",
    "\n",
    "### 加法规则\n",
    "\n",
    "> $p(A) = \\sum_{b}p(A, B) = \\sum_{b}p(A|B)p(B)$\n",
    "\n",
    "### 条件概率\n",
    "\n",
    "由乘法规则，得到\n",
    "\n",
    "> $p(A|B) = \\frac{p(A, B)}{p(B)}$\n",
    "\n",
    "## 0.3 贝叶斯规则\n",
    "\n",
    "由乘法规则、加法规则得到，\n",
    "\n",
    "> $p(A=a|B=b) = \\frac{p(A=a, B=b)}{p(B=b)} $ \n",
    "\n",
    "> $= \\frac{p(B=b|A=a)p(A=a)}{\\sum_{a'}p(B=b|A=a')p(A=a')}$\n",
    "\n",
    "\n"
   ]
  },
  {
   "cell_type": "markdown",
   "metadata": {},
   "source": [
    "# 2. 常用离散分布\n",
    "\n",
    "## 2.1 二项分布\n",
    "\n",
    "如果一个随机变量$X$（如掷硬币）只有两个可能性：分别为1，0（如正面朝上或者反面朝上），概率分别为\n",
    "\n",
    "> $p(X=1)=\\theta$， $p(X=0) = 1 - \\theta$\n",
    "\n",
    "做一次实验，出现结果的概率服从<b>伯努利分布</b>\n",
    "> $Ber(X|\\theta) = \\theta^{\\mathbb{1}(X=1)}(1-\\theta)^{\\mathbb{1}(X=0)}$， $X\\in \\{0, 1\\}$\n",
    "\n",
    "独立重复事物$n$次，结果为1的出现次数为$k$的概率分布服从<b>二项分布</b>\n",
    "\n",
    "> $Bin(k|n, \\theta) = \\binom{n}{k}\\theta^{k}(1-\\theta)^{n-k}$\n",
    "\n",
    "## 2.2 多项分布\n"
   ]
  },
  {
   "cell_type": "markdown",
   "metadata": {},
   "source": [
    "# 3. 常用连续分布"
   ]
  }
 ],
 "metadata": {
  "kernelspec": {
   "display_name": "Python 3",
   "language": "python",
   "name": "python3"
  },
  "language_info": {
   "codemirror_mode": {
    "name": "ipython",
    "version": 3
   },
   "file_extension": ".py",
   "mimetype": "text/x-python",
   "name": "python",
   "nbconvert_exporter": "python",
   "pygments_lexer": "ipython3",
   "version": "3.6.3"
  }
 },
 "nbformat": 4,
 "nbformat_minor": 2
}
