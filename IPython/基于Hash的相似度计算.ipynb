{
 "cells": [
  {
   "cell_type": "markdown",
   "metadata": {},
   "source": [
    "<h1>基于Hash的相似度计算</h1>\n",
    "\n",
    "# 0. 问题引出\n",
    "\n",
    "在推荐系统中，相似度计算是一个基础问题。不论是基于用户的协同过滤、基于物品的协同过滤，还是其它算法的召回阶段，都大量使用相似度计算的结果。\n",
    "\n",
    "以基于物品的协同过滤为例，假设有$M$个用户，$N$个物品。需要从用户历史（订单）日志中挖掘出物品之间的相似度；<b>给定一个物品，快速得到最相似的$K$个物品</b>。\n",
    "\n",
    "如果直接计算所有物品对之间的相似度，时间复杂度是$O(N^2M)$，现实中物品数量众多，该方法无法在有效时间内计算出结果。\n",
    "\n",
    "# 1. MinHash\n",
    "\n",
    "> 参考文献：\n",
    "\n",
    "> + On the resemblance and containment of documents. \n",
    "\n",
    "实际上，每一个物品向量是稀疏的$M$维向量，$M$是用户个数，维度非常高。稀疏表示之后的向量维度也很高，一个自然的想法就是<b>降维</b>（MinHash提出的动机就是，类似于Google在爬取网页时，不希望保存与已经爬取的网页重复或者高度相似的网页。（1）将待保存网页与全量已保存网页比较相似度不现实；（2）每个网页可能包含很多词汇，网页两两比较时也不宜采用网页所有词汇全量计算）。\n",
    "\n",
    "MinHash就是其中一种降维方法，将稀疏向量通过Hash方法降维到固定的维度，希望降维之后保持流形(m)：降维之前相似的向量，降维之后依然相似。\n"
   ]
  },
  {
   "cell_type": "code",
   "execution_count": null,
   "metadata": {
    "collapsed": true
   },
   "outputs": [],
   "source": []
  }
 ],
 "metadata": {
  "kernelspec": {
   "display_name": "Python 3",
   "language": "python",
   "name": "python3"
  },
  "language_info": {
   "codemirror_mode": {
    "name": "ipython",
    "version": 3
   },
   "file_extension": ".py",
   "mimetype": "text/x-python",
   "name": "python",
   "nbconvert_exporter": "python",
   "pygments_lexer": "ipython3",
   "version": "3.6.2"
  }
 },
 "nbformat": 4,
 "nbformat_minor": 2
}
