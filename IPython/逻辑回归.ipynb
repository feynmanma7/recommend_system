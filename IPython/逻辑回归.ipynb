{
 "cells": [
  {
   "cell_type": "markdown",
   "metadata": {},
   "source": [
    "<h1>逻辑回归</h1>\n",
    "\n",
    "# 1. 线性回归\n",
    "\n",
    "## 1.1 线性基础模型\n",
    "\n",
    "> $y(\\boldsymbol{x}, \\boldsymbol{w}) = w_0 + w_1x_1 + ... + w_Dx_D$\n",
    "\n",
    "> $ = w_0 + \\sum_{i=1}^{D}w_ix_i$\n",
    " \n",
    "## 1.2 基础模型\n",
    "\n",
    "> $y(\\boldsymbol{x}, \\boldsymbol{w}) = w_0 + \\sum_{i=1}^{D}w_i\\phi_i(\\boldsymbol{x})$\n",
    "\n",
    "> $ = \\boldsymbol{w}^T\\phi(\\boldsymbol{x})$\n",
    "\n",
    "## 1.3 线性回归\n",
    "假设目标变量与拟合函数之间存在高斯误差，\n",
    "\n",
    "> $\\boldsymbol{t} = y(\\boldsymbol{x}, \\boldsymbol{w}) + \\epsilon$，\n",
    "$\\epsilon \\sim \\mathcal{N}(0, \\beta^{-1})$\n",
    "\n",
    "> $p(\\boldsymbol{t}|\\boldsymbol{x}, \\boldsymbol{w}, \\beta) = \\mathcal{N}(y(\\boldsymbol{x}, \\boldsymbol{w}), \\beta^{-1})$"
   ]
  },
  {
   "cell_type": "markdown",
   "metadata": {},
   "source": [
    "# 2. Bias & Variance Tradeoff\n",
    "\n",
    "对于某个估计函数$y(\\boldsymbol{x})$， 损失函数$L(t, y(\\boldsymbol{x}))$的期望\n",
    "\n",
    "> $\\mathbb{E}[L] = \\int\\int L(t, y(\\boldsymbol{x}))p(\\boldsymbol{x}, t)d\\boldsymbol{x}dt$\n",
    "\n",
    "假设$L$为平方损失$L(t, y(\\boldsymbol{x})) = \\{y(\\boldsymbol{x}) - t\\}^2$， \n",
    "\n",
    "> $L(t, y(\\boldsymbol{x})) = \\{y(\\boldsymbol{x}) - t\\}^2$\n",
    "\n",
    "> $ = \\{y(\\boldsymbol{x}) - \\mathbb{E}(t|\\boldsymbol{x}) + \\mathbb{E}(t|\\boldsymbol{x}) -t \\}^2$\n",
    "\n",
    "> $ = \\{ y(\\boldsymbol{x}) - \\mathbb{E}(t|\\boldsymbol{x}) \\}^2 + \n",
    "\\{ \\mathbb{E}(t|\\boldsymbol{x}) -t \\}^2 + \n",
    "2 \\{ y(\\boldsymbol{x}) - \\mathbb{E}(t|\\boldsymbol{x}) \\} \\{ \\mathbb{E}(t|\\boldsymbol{x}) -t \\}\n",
    "$"
   ]
  },
  {
   "cell_type": "markdown",
   "metadata": {},
   "source": [
    "> $\\mathbb{E}[L] = \\int\\int \\{y(\\boldsymbol{x}) - t\\}^2 \n",
    "p(\\boldsymbol{x}, t)d\\boldsymbol{x}dt$\n",
    "\n",
    "> $ = \\int\\int \\{ y(\\boldsymbol{x}) - \\mathbb{E}(t|\\boldsymbol{x}) \\}^2 \n",
    "p(\\boldsymbol{x}, t)\n",
    "d\\boldsymbol{x}dt$\n",
    "\n",
    "> $+\\int\\int \\{ \\mathbb{E}(t|\\boldsymbol{x}) -t \\}^2 \n",
    "p(\\boldsymbol{x}, t)\n",
    "d\\boldsymbol{x}dt$\n",
    "\n",
    "> $+\\int\\int 2 \\{ y(\\boldsymbol{x}) - \\mathbb{E}(t|\\boldsymbol{x}) \\} \\{ \\mathbb{E}\n",
    "(t|\\boldsymbol{x}) -t \\}\n",
    "p(\\boldsymbol{x}, t)\n",
    "d\\boldsymbol{x}dt$\n",
    "\n",
    "> $ = \\int \\{ y(\\boldsymbol{x}) - \\mathbb{E}(t|\\boldsymbol{x}) \\}^2 \n",
    "p(\\boldsymbol{x})\n",
    "d\\boldsymbol{x}$\n",
    "\n",
    "> $+ \\int \\{ \\mathbb{E}(t|\\boldsymbol{x}) -t \\}^2 \n",
    "p(\\boldsymbol{x})\n",
    "d\\boldsymbol{x}$\n",
    "\n",
    "> $+\\int 2 \\{ y(\\boldsymbol{x}) - \\mathbb{E}(t|\\boldsymbol{x}) \\}\n",
    "d\\boldsymbol{x}\n",
    "\\underbrace{\n",
    "\\int \\{ \\mathbb{E}(t|\\boldsymbol{x}) -t \\}p(\\boldsymbol{x}, t)dt}_\n",
    "{\\mathbb{E}(t|\\boldsymbol{x}) - \\mathbb{E}(t)=0}\n",
    "$\n",
    "\n",
    "> $ = \\int \\{ y(\\boldsymbol{x}) - \\mathbb{E}(t|\\boldsymbol{x}) \\}^2 \n",
    "p(\\boldsymbol{x})\n",
    "d\\boldsymbol{x} \n",
    "+ \\int \\{ \\mathbb{E}(t|\\boldsymbol{x}) -t \\}^2 \n",
    "p(\\boldsymbol{x})\n",
    "d\\boldsymbol{x}$"
   ]
  },
  {
   "cell_type": "markdown",
   "metadata": {},
   "source": [
    "定义$h(\\boldsymbol{x}) = \\mathbb{E}(t|\\boldsymbol{x}) = \\int tp(t|\\boldsymbol{x})dt $"
   ]
  },
  {
   "cell_type": "markdown",
   "metadata": {},
   "source": [
    "> $\\int \\{ y(\\boldsymbol{x}) - \\mathbb{E}(t|\\boldsymbol{x}) \\}^2 \n",
    "p(\\boldsymbol{x})\n",
    "d\\boldsymbol{x} $\n",
    "\n",
    "> $ = \\int \\{ y(\\boldsymbol{x}) - h(\\boldsymbol{x}) \\}^2\n",
    "p(\\boldsymbol{x})\n",
    "d\\boldsymbol{x}$\n",
    "\n",
    "> $ = \\int \\{ y(\\boldsymbol{x}) - \\mathbb{E}(y)\n",
    "+ \\mathbb{E}(y) - h(\\boldsymbol{x}) \\}^2\n",
    "p(\\boldsymbol{x})\n",
    "d\\boldsymbol{x}$\n",
    "\n",
    "> $ = \\int \\{ \\{ y(\\boldsymbol{x}) - \\mathbb{E}(y)\\}^2\n",
    "+ \\{\\mathbb{E}(y) - h(\\boldsymbol{x}) \\}^2\n",
    "+ 2 \\{ y(\\boldsymbol{x}) - \\mathbb{E}(y)\\} \\{\\mathbb{E}(y) - h(\\boldsymbol{x}) \\}\n",
    "\\}\n",
    "p(\\boldsymbol{x})\n",
    "d\\boldsymbol{x}$\n",
    "\n",
    "> $ = \\int \\{ y(\\boldsymbol{x}) - \\mathbb{E}(y)\\}^2 \n",
    "p(\\boldsymbol{x})\n",
    "d\\boldsymbol{x}\n",
    "+ \\int \\{\\mathbb{E}(y) - h(\\boldsymbol{x}) \\}^2\n",
    "p(\\boldsymbol{x})\n",
    "d\\boldsymbol{x}\n",
    "+ 2 \\int \n",
    "\\underbrace{\n",
    "\\{ y(\\boldsymbol{x}) - \\mathbb{E}(y)\\} p(\\boldsymbol{x}) }\n",
    "_{E(y) - E(y) = 0}\n",
    "\\{\\mathbb{E}(y) - h(\\boldsymbol{x}) \\}\n",
    "d\\boldsymbol{x}$\n",
    "\n",
    "> $ = \\int \\{ y(\\boldsymbol{x}) - \\mathbb{E}(y)\\}^2 \n",
    "p(\\boldsymbol{x})\n",
    "d\\boldsymbol{x}\n",
    "+ \\int \\{\\mathbb{E}(y) - h(\\boldsymbol{x}) \\}^2\n",
    "p(\\boldsymbol{x})\n",
    "d\\boldsymbol{x}$"
   ]
  },
  {
   "cell_type": "markdown",
   "metadata": {},
   "source": [
    "所以，\n",
    "\n",
    "> $\\mathbb{E}[L] = \n",
    "\\underbrace{\n",
    "\\int \\{ y(\\boldsymbol{x}) - \\mathbb{E}(y)\\}^2\n",
    "p(\\boldsymbol{x})\n",
    "d\\boldsymbol{x}}\n",
    "_{variance}\n",
    "+\n",
    "\\underbrace{\n",
    "\\int \\{\\mathbb{E}(y) - h(\\boldsymbol{x}) \\}^2\n",
    "p(\\boldsymbol{x})\n",
    "d\\boldsymbol{x} }\n",
    "_{(bias)^2}\n",
    "+\n",
    "\\underbrace{\n",
    "\\int \\{ \\mathbb{E}(t|\\boldsymbol{x}) -t \\}^2 \n",
    "p(\\boldsymbol{x})\n",
    "d\\boldsymbol{x}}\n",
    "_{noise}\n",
    "$"
   ]
  },
  {
   "cell_type": "markdown",
   "metadata": {},
   "source": [
    "结论：\n",
    "> Error = variance + (bias)$^2$ + noise"
   ]
  },
  {
   "cell_type": "markdown",
   "metadata": {},
   "source": [
    "# 3. 逻辑回归\n",
    "\n",
    "与线性回归$y(\\boldsymbol{x}, \\boldsymbol{w}) = \\boldsymbol{w}^T\\phi(\\boldsymbol{x})$相比，逻辑回归是分类方法。\n",
    "\n",
    "以二类分类为例，$p(\\mathcal{C_1}|\\boldsymbol{x}, \\boldsymbol{w}, \\phi) = \\sigma( \\boldsymbol{w}^T\\phi(\\boldsymbol{x}))$。\n",
    "当$\\phi(\\boldsymbol{x}) = \\boldsymbol{x}$， $p(\\mathcal{C_1}|\\boldsymbol{x}, \\boldsymbol{w}) = \\sigma( \\boldsymbol{w}^T \\boldsymbol{x})$。\n",
    "\n",
    "对于数据$\\{x_n, y_n\\}$，二类分类的似然函数服从二项分布，\n",
    "\n",
    "> $p(\\boldsymbol{y}|\\boldsymbol{x}, \\boldsymbol{w}) = \\prod_{n=1}^{N}\\sigma(w^Tx_n)^{y_n}(1-\\sigma(w^Tx_n))^{1-y_n}$ \n",
    "\n",
    "损失函数定义为负log似然，\n",
    "\n",
    "> $J(\\boldsymbol{w}) = - \\sum_{n=1}^{N}\\{y_n\\ln\\sigma + (1-y_n)ln(1-\\sigma) \\}$\n",
    "\n"
   ]
  },
  {
   "cell_type": "markdown",
   "metadata": {},
   "source": [
    "对$w_i$求偏导， \n",
    "\n",
    "> $\\nabla_{w_i}{J(\\boldsymbol{w})} = -\\sum_{n=1}^{N} \\{\n",
    "y_n\\frac{1}{\\sigma}\\nabla_{w_i}\\sigma\n",
    "+ (1-y_n)\\frac{1}{1-\\sigma}(-\\nabla_{w_i}\\sigma) \\}$\n",
    "\n",
    "> $ = -\\sum_{n=1}^{N}\\{y_n-\\sigma(x_n, \\boldsymbol{w}^T)\\}x_i$\n",
    "\n",
    "> $ = \\sum_{n=1}^{N}\\{\\sigma(x_n, \\boldsymbol{w}^T) - y_n\\}x_i$\n"
   ]
  },
  {
   "cell_type": "markdown",
   "metadata": {},
   "source": [
    "\n",
    "> $ \\sigma(a) = \\frac{1}{1+exp{-a}} $\n",
    "\n",
    "> $\\nabla_a{\\sigma(a)} = \\sigma(1-\\sigma)$\n",
    "\n",
    "> $\\nabla\\sigma_{w_i}(\\boldsymbol{w}, \\boldsymbol{x}) = \\sigma(1-\\sigma)x_i$"
   ]
  },
  {
   "cell_type": "code",
   "execution_count": null,
   "metadata": {
    "collapsed": true
   },
   "outputs": [],
   "source": []
  }
 ],
 "metadata": {
  "kernelspec": {
   "display_name": "Python 3",
   "language": "python",
   "name": "python3"
  },
  "language_info": {
   "codemirror_mode": {
    "name": "ipython",
    "version": 3
   },
   "file_extension": ".py",
   "mimetype": "text/x-python",
   "name": "python",
   "nbconvert_exporter": "python",
   "pygments_lexer": "ipython3",
   "version": "3.6.3"
  }
 },
 "nbformat": 4,
 "nbformat_minor": 2
}
