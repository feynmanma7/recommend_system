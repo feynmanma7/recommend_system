{
 "cells": [
  {
   "cell_type": "markdown",
   "metadata": {},
   "source": [
    "<h1>Collaborative Filtering</h1>\n",
    "\n",
    "# 0. Matrix Factorization (~SVD)\n",
    "\n",
    "[1] Matrix factorization techniques for recommender systems.\n",
    "\n",
    "Note: Not the same with pure SVD in math which decomposite matrix to three sub-matrices.\n",
    "\n",
    ">  $\\min_{q*, p*} \\sum_{u, i} (r_{u, i} - q_i^T p_u)^2 \n",
    "+ \\lambda(||q_i||^2 + ||p_u||^2)$\n",
    "\n",
    "## 0.0 SGD\n",
    "\n",
    "> $e_{u, i} = r_{u, i} - q_i^T p_u$\n",
    "\n",
    "> $q_i \\leftarrow q_i - \\eta (- e_{u, i} p_u + \\lambda * 2 * q_i )$\n",
    "\n",
    "> $p_u \\leftarrow p_u - \\eta (- e_{u, i} q_i + \\lambda * 2 * p_u )$\n",
    "\n",
    "## 0.1 ALS\n",
    "In each iteration, fix $p_u$ and $q_i$ seperately.\n",
    "\n",
    "Thus the optimization object becomes covex, \n",
    "the problem can be solved using least square methods.\n",
    "\n"
   ]
  },
  {
   "cell_type": "code",
   "execution_count": null,
   "metadata": {
    "collapsed": true
   },
   "outputs": [],
   "source": []
  }
 ],
 "metadata": {
  "kernelspec": {
   "display_name": "Python 3",
   "language": "python",
   "name": "python3"
  },
  "language_info": {
   "codemirror_mode": {
    "name": "ipython",
    "version": 3
   },
   "file_extension": ".py",
   "mimetype": "text/x-python",
   "name": "python",
   "nbconvert_exporter": "python",
   "pygments_lexer": "ipython3",
   "version": "3.6.3"
  }
 },
 "nbformat": 4,
 "nbformat_minor": 2
}
