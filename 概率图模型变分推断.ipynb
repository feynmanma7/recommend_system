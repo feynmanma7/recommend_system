{
 "cells": [
  {
   "cell_type": "markdown",
   "metadata": {
    "collapsed": true
   },
   "source": [
    "<h1>变分推断 Variational Inference</h1>\n",
    "\n",
    "# 1. 变分推断\n",
    "在EM算法中，需要计算包含隐变量$Z$的完整数据$(X,Z)$的对数似然的期望$E(\\ln p(X,Z|\\theta))$，然后利用极大似然法计算$\\theta$。如果隐变量$Z$的后验分布或者对数似然的期望难以计算，则很难使用EM算法。\n",
    "\n",
    "对于观测数据$X$与隐含变量$Z$，将其视作完整数据$(X, Z)$，其对数似然为:\n",
    "\n",
    "> $\\ln p(X,Z|\\theta) = \\ln p(X|\\theta) + \\ln p(Z|X, \\theta)$\n",
    "\n",
    "从而， \n",
    "\n",
    "> $\\ln p(X|\\theta) = \\ln p(X, Z|\\theta) - \\ln p(Z|X, \\theta)$\n",
    "\n",
    "引入分布$q(Z)$， \n",
    "\n",
    "> $\\ln p(X) = \\ln p(X, Z) - \\ln p(Z|X) = \\int q(Z)\\{\\ln p(X, Z) - \\ln p(Z|X)\\}dZ $\n",
    "\n",
    "> $= \\int q(Z)\\{\\ln \\frac{p(X, Z)}{q(Z)} - \\frac{\\ln p(Z|X)}{q(Z)}\\}dZ $\n",
    "\n",
    "> $= \\int q(Z)\\int \\ln\\frac{p(X, Z)}{q(Z)} dZ - \\int q(Z) \\ln\\frac{p(Z|X)}{q(Z)}dZ$\n",
    "\n",
    "> $= \\int q(Z)\\int \\ln\\frac{p(X, Z)}{q(Z)} dZ + \\int q(Z) \\ln\\frac{q(Z)}{p(Z|X)}dZ$\n",
    "\n",
    "> $=L(q) + KL(q||p)$\n",
    "\n",
    "由于$KL(q||p)>=0$，所以$\\ln p(X) >= L(q)$，即$L(q)$是$\\ln p(X)$的下界。\n",
    "\n",
    "使得$L(q) = \\ln p(X)$的$q$的选择，有$KL(q||p)=0$，即$q$正好等于$Z$的后验分布$p(Z|X)$。\n"
   ]
  },
  {
   "cell_type": "code",
   "execution_count": null,
   "metadata": {
    "collapsed": true
   },
   "outputs": [],
   "source": []
  }
 ],
 "metadata": {
  "kernelspec": {
   "display_name": "Python 3",
   "language": "python",
   "name": "python3"
  },
  "language_info": {
   "codemirror_mode": {
    "name": "ipython",
    "version": 3
   },
   "file_extension": ".py",
   "mimetype": "text/x-python",
   "name": "python",
   "nbconvert_exporter": "python",
   "pygments_lexer": "ipython3",
   "version": "3.6.3"
  }
 },
 "nbformat": 4,
 "nbformat_minor": 2
}
