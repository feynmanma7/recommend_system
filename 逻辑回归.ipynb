{
 "cells": [
  {
   "cell_type": "markdown",
   "metadata": {},
   "source": [
    "<h1>逻辑回归</h1>\n",
    "\n",
    "# 1. 线性回归\n",
    "\n",
    "## 1.1 线性基础模型\n",
    "\n",
    "> $y(\\boldsymbol{x}, \\boldsymbol{w}) = w_0 + w_1x_1 + ... + w_Dx_D$\n",
    "\n",
    "> $ = w_0 + \\sum_{i=1}^{D}w_ix_i$\n",
    " \n",
    "## 1.2 基础模型\n",
    "\n",
    "> $y(\\boldsymbol{x}, \\boldsymbol{w}) = w_0 + \\sum_{i=1}^{D}w_i\\phi_i(\\boldsymbol{x})$\n",
    "\n",
    "> $ = \\boldsymbol{w}^T\\phi(\\boldsymbol{x})$\n",
    "\n",
    "## 1.3 线性回归\n",
    "假设目标变量与拟合函数之间存在高斯误差，\n",
    "\n",
    "> $\\boldsymbol{t} = y(\\boldsymbol{x}, \\boldsymbol{w}) + \\epsilon$，\n",
    "$\\epsilon \\sim \\mathcal{N}(0, \\beta^{-1})$\n",
    "\n",
    "> $p(\\boldsymbol{t}|\\boldsymbol{x}, \\boldsymbol{w}, \\beta) = \\mathcal{N}(y(\\boldsymbol{x}, \\boldsymbol{w}), \\beta^{-1})$"
   ]
  },
  {
   "cell_type": "markdown",
   "metadata": {},
   "source": [
    "# 2. Bias & Variance Tradeoff\n",
    "\n",
    "对于某个估计函数$y(\\boldsymbol{x})$， 损失函数$L(t, y(\\boldsymbol{x}))$的期望\n",
    "\n",
    "> $\\mathbb{E}[L] = \\int\\int L(t, y(\\boldsymbol{x}))p(\\boldsymbol{x}, t)d\\boldsymbol{x}dt$\n",
    "\n",
    "假设$L$为平方损失$L(t, y(\\boldsymbol{x})) = \\{y(\\boldsymbol{x}) - t\\}^2$， \n",
    "\n",
    "> $L(t, y(\\boldsymbol{x})) = \\{y(\\boldsymbol{x}) - t\\}^2$\n",
    "\n",
    "> $ = \\{y(\\boldsymbol{x}) - \\mathbb{E}(t|\\boldsymbol{x}) + \\mathbb{E}(t|\\boldsymbol{x}) -t \\}^2$\n",
    "\n",
    "> $ = \\{ y(\\boldsymbol{x}) - \\mathbb{E}(t|\\boldsymbol{x}) \\}^2 + \n",
    "\\{ \\mathbb{E}(t|\\boldsymbol{x}) -t \\}^2 + \n",
    "2 \\{ y(\\boldsymbol{x}) - \\mathbb{E}(t|\\boldsymbol{x}) \\} \\{ \\mathbb{E}(t|\\boldsymbol{x}) -t \\}\n",
    "$"
   ]
  },
  {
   "cell_type": "markdown",
   "metadata": {},
   "source": [
    "> $\\mathbb{E}[L] = \\int\\int \\{y(\\boldsymbol{x}) - t\\}^2 \n",
    "p(\\boldsymbol{x}, t)d\\boldsymbol{x}dt$\n",
    "\n",
    "> $ = \\int\\int \\{ y(\\boldsymbol{x}) - \\mathbb{E}(t|\\boldsymbol{x}) \\}^2 \n",
    "p(\\boldsymbol{x}, t)\n",
    "d\\boldsymbol{x}dt$\n",
    "\n",
    "> $+\\int\\int \\{ \\mathbb{E}(t|\\boldsymbol{x}) -t \\}^2 \n",
    "p(\\boldsymbol{x}, t)\n",
    "d\\boldsymbol{x}dt$\n",
    "\n",
    "> $+\\int\\int 2 \\{ y(\\boldsymbol{x}) - \\mathbb{E}(t|\\boldsymbol{x}) \\} \\{ \\mathbb{E}\n",
    "(t|\\boldsymbol{x}) -t \\}\n",
    "p(\\boldsymbol{x}, t)\n",
    "d\\boldsymbol{x}dt$\n",
    "\n",
    "> $ = \\int \\{ y(\\boldsymbol{x}) - \\mathbb{E}(t|\\boldsymbol{x}) \\}^2 \n",
    "p(\\boldsymbol{x})\n",
    "d\\boldsymbol{x}$\n",
    "\n",
    "> $+ \\int \\{ \\mathbb{E}(t|\\boldsymbol{x}) -t \\}^2 \n",
    "p(\\boldsymbol{x})\n",
    "d\\boldsymbol{x}$\n",
    "\n",
    "> $+\\int 2 \\{ y(\\boldsymbol{x}) - \\mathbb{E}(t|\\boldsymbol{x}) \\}\n",
    "d\\boldsymbol{x}\n",
    "\\underbrace{\n",
    "\\int \\{ \\mathbb{E}(t|\\boldsymbol{x}) -t \\}p(\\boldsymbol{x}, t)dt}_\n",
    "{\\mathbb{E}(t|\\boldsymbol{x}) - \\mathbb{E}(t)=0}\n",
    "$\n",
    "\n",
    "> $ = \\int \\{ y(\\boldsymbol{x}) - \\mathbb{E}(t|\\boldsymbol{x}) \\}^2 \n",
    "p(\\boldsymbol{x})\n",
    "d\\boldsymbol{x} \n",
    "+ \\int \\{ \\mathbb{E}(t|\\boldsymbol{x}) -t \\}^2 \n",
    "p(\\boldsymbol{x})\n",
    "d\\boldsymbol{x}$"
   ]
  },
  {
   "cell_type": "markdown",
   "metadata": {},
   "source": [
    "定义$h(\\boldsymbol{x}) = \\mathbb{E}(t|\\boldsymbol{x}) = \\int tp(t|\\boldsymbol{x})dt $"
   ]
  },
  {
   "cell_type": "markdown",
   "metadata": {},
   "source": [
    "> $\\int \\{ y(\\boldsymbol{x}) - \\mathbb{E}(t|\\boldsymbol{x}) \\}^2 \n",
    "p(\\boldsymbol{x})\n",
    "d\\boldsymbol{x} $\n",
    "\n",
    "> $ = \\int \\{ y(\\boldsymbol{x}) - h(\\boldsymbol{x}) \\}^2\n",
    "p(\\boldsymbol{x})\n",
    "d\\boldsymbol{x}$\n",
    "\n",
    "> $ = \\int \\{ y(\\boldsymbol{x}) - \\mathbb{E}(y)\n",
    "+ \\mathbb{E}(y) - h(\\boldsymbol{x}) \\}^2\n",
    "p(\\boldsymbol{x})\n",
    "d\\boldsymbol{x}$\n",
    "\n",
    "> $ = \\int \\{ \\{ y(\\boldsymbol{x}) - \\mathbb{E}(y)\\}^2\n",
    "+ \\{\\mathbb{E}(y) - h(\\boldsymbol{x}) \\}^2\n",
    "+ 2 \\{ y(\\boldsymbol{x}) - \\mathbb{E}(y)\\} \\{\\mathbb{E}(y) - h(\\boldsymbol{x}) \\}\n",
    "\\}\n",
    "p(\\boldsymbol{x})\n",
    "d\\boldsymbol{x}$\n",
    "\n",
    "> $ = \\int \\{ y(\\boldsymbol{x}) - \\mathbb{E}(y)\\}^2 \n",
    "p(\\boldsymbol{x})\n",
    "d\\boldsymbol{x}\n",
    "+ \\int \\{\\mathbb{E}(y) - h(\\boldsymbol{x}) \\}^2\n",
    "p(\\boldsymbol{x})\n",
    "d\\boldsymbol{x}\n",
    "+ 2 \\int \n",
    "\\underbrace{\n",
    "\\{ y(\\boldsymbol{x}) - \\mathbb{E}(y)\\} p(\\boldsymbol{x}) }\n",
    "_{E(y) - E(y) = 0}\n",
    "\\{\\mathbb{E}(y) - h(\\boldsymbol{x}) \\}\n",
    "d\\boldsymbol{x}$\n",
    "\n",
    "> $ = \\int \\{ y(\\boldsymbol{x}) - \\mathbb{E}(y)\\}^2 \n",
    "p(\\boldsymbol{x})\n",
    "d\\boldsymbol{x}\n",
    "+ \\int \\{\\mathbb{E}(y) - h(\\boldsymbol{x}) \\}^2\n",
    "p(\\boldsymbol{x})\n",
    "d\\boldsymbol{x}$"
   ]
  },
  {
   "cell_type": "markdown",
   "metadata": {},
   "source": [
    "所以，\n",
    "\n",
    "> $\\mathbb{E}[L] = \n",
    "\\underbrace{\n",
    "\\int \\{ y(\\boldsymbol{x}) - \\mathbb{E}(y)\\}^2\n",
    "p(\\boldsymbol{x})\n",
    "d\\boldsymbol{x}}\n",
    "_{variance}\n",
    "+\n",
    "\\underbrace{\n",
    "\\int \\{\\mathbb{E}(y) - h(\\boldsymbol{x}) \\}^2\n",
    "p(\\boldsymbol{x})\n",
    "d\\boldsymbol{x} }\n",
    "_{(bias)^2}\n",
    "+\n",
    "\\underbrace{\n",
    "\\int \\{ \\mathbb{E}(t|\\boldsymbol{x}) -t \\}^2 \n",
    "p(\\boldsymbol{x})\n",
    "d\\boldsymbol{x}}\n",
    "_{noise}\n",
    "$"
   ]
  },
  {
   "cell_type": "markdown",
   "metadata": {},
   "source": [
    "结论：\n",
    "> Error = variance + (bias)$^2$ + noise"
   ]
  },
  {
   "cell_type": "code",
   "execution_count": null,
   "metadata": {
    "collapsed": true
   },
   "outputs": [],
   "source": []
  }
 ],
 "metadata": {
  "kernelspec": {
   "display_name": "Python 3",
   "language": "python",
   "name": "python3"
  },
  "language_info": {
   "codemirror_mode": {
    "name": "ipython",
    "version": 3
   },
   "file_extension": ".py",
   "mimetype": "text/x-python",
   "name": "python",
   "nbconvert_exporter": "python",
   "pygments_lexer": "ipython3",
   "version": "3.6.3"
  }
 },
 "nbformat": 4,
 "nbformat_minor": 2
}
