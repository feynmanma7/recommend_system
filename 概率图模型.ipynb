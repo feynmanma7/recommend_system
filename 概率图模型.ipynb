{
 "cells": [
  {
   "cell_type": "markdown",
   "metadata": {},
   "source": [
    "<h1>概率图模型采样方法</h1>\n",
    "\n",
    "> <b>解决问题</b>\n",
    "\n",
    "> 从数据分布中采样，尤其是高维数据分布\n",
    "\n",
    "参考文献：\n",
    "\n",
    "[1] Pattern recognition and machine learning, Chapter 11.\n",
    "\n",
    "[2] Machine Learning, A Probabilistic Perspective, Chapter 23, 24.\n",
    "\n",
    "[3] LDA数学八卦.\n",
    "\n",
    "# 0. 采样 (Sampling)\n",
    "\n",
    "假设有一个分布，一共三个离散值[A, B, C]，其概率分布为[0.3, 0.5, 0.2]。如果需要从该分布中采样一系列样本，一个直观的做法是从$u\\sim U(0, 1)$中采样。\n",
    "\n",
    "+ $x = A, if 0 <= u <= 0.3$, \n",
    "+ $x = B, if 0.3 < u <= 0.8, (0.8=0.3 + 0.5)$, \n",
    "+ $x = C, if 0.8 < u <= 1,(1=0.3 + 0.5 + 0.2)$.\n",
    "\n",
    "因此，可以通过计算待采样分布的累计概率函数，通过均匀分布来抽样标准分布。\n",
    "\n",
    "\n",
    "# 1. 标准分布直接采样 （Sampling from Standard Distribution）\n",
    "\n",
    ">定理: $F$是我们要采样的函数$p(x)$的累积密度函数(cdf)，如果$u\\sim U(0, 1)$， 则$F^{-1}(u)\\sim F$.\n",
    ">证明见MLAPP.\n",
    "\n",
    "采样过程：\n",
    "\n",
    "（1）采样$u\\sim U(0, 1)$；\n",
    "\n",
    "（2）计算$x=F^{-1}(u)$。\n",
    "\n",
    "直接采样需要计算累积密度函数的逆函数，如果累计密度函数或者逆函数难以计算，则该方法不适用。\n",
    "\n",
    "\n"
   ]
  },
  {
   "cell_type": "markdown",
   "metadata": {},
   "source": [
    "# 2. 拒绝采样 （Rejection Sampling）\n",
    "\n",
    "如果待采样分布$p(x)$难以直接采样，建立一个参考分布$q(x)$，使得对于某些固定的参数$M$，满足$Mq(x)\\geq \\tilde{p}(x)$。其中$\\tilde{p}(x)$是$p(x)$的一个未归一化的版本，例如，$p(x)=\\tilde{p}(x)/Z_{p}$，$Z_{p}$是一个固定的归一化参数。则函数$Mq(x)$是$\\tilde{p}(x)$的一个上界包围。\n",
    "\n",
    "采样过程：\n",
    "\n",
    "（1）采样$x\\sim q(x)$；\n",
    "\n",
    "（2）采样$u\\sim U(0,1)$；\n",
    "\n",
    "（3）接受率$r=\\frac{\\tilde{p}(x)}{Mq(x)}$，如果$u<r$，接受本次采样，否则拒绝；\n",
    "\n",
    "拒绝采样的$M$不好设置，设置的过小，$q(x)$无法全部包围住$p(x)$；设置的过大，则接受率太低，采样效率太低。也要求$q(x)$既便于采样，又要从形状上比较接近$p(x)$，在高维情况或者$p(x)$很复杂的情况下难以满足。\n",
    "\n",
    "> 问题：(1)$q(x)$如何选取？(2)$M$如何确定？\n"
   ]
  },
  {
   "cell_type": "code",
   "execution_count": 6,
   "metadata": {
    "collapsed": true
   },
   "outputs": [],
   "source": [
    "import numpy as np\n",
    "import matplotlib.pyplot as plt\n",
    "import matplotlib.mlab as mlab\n",
    "import math"
   ]
  },
  {
   "cell_type": "code",
   "execution_count": 29,
   "metadata": {},
   "outputs": [],
   "source": [
    "# p(x) ~ norm(0, 1)\n",
    "# q(x) = U(-4, 4), M = 0.4\n",
    "x = np.arange(-4, 4, 0.2)\n",
    "y = list(map(lambda i : 1. / math.sqrt(2 * math.pi) * math.exp(-i ** 2 / 2), x))"
   ]
  },
  {
   "cell_type": "code",
   "execution_count": 46,
   "metadata": {},
   "outputs": [],
   "source": [
    "z = []\n",
    "M = 0.4\n",
    "for i in np.arange(-4, 4, 0.0001):\n",
    "    while True:\n",
    "        # q(x)\n",
    "        q = np.random.uniform(-4, 4) \n",
    "        p = 1. / math.sqrt(2 * math.pi) * math.exp(- i ** 2 / 2)    \n",
    "        r = p / (M*abs(q))\n",
    "        u = np.random.uniform(0, 1)\n",
    "    \n",
    "        if u <= r:\n",
    "            z.append(q)\n",
    "            break"
   ]
  },
  {
   "cell_type": "code",
   "execution_count": 48,
   "metadata": {},
   "outputs": [
    {
     "data": {
      "image/png": "[encoded data removed]",
      "text/plain": [
       "<matplotlib.figure.Figure at 0x11349fbe0>"
      ]
     },
     "metadata": {},
     "output_type": "display_data"
    }
   ],
   "source": [
    "plt.plot(x, y, 'o')\n",
    "plt.plot(x, y, 'r')\n",
    "plt.hist(z, normed=1)\n",
    "plt.title('Rejection Sampling')\n",
    "plt.show()"
   ]
  },
  {
   "cell_type": "markdown",
   "metadata": {},
   "source": [
    "# 3. 重要性采样 （Importance Sampling）\n",
    "\n",
    "如果计算积分（或者面积，比如通过计算面积来估计$\\pi$），\n",
    "\n",
    "（1）采样该积分定义区间上的均匀分布$u\\sim U(a,b)$；\n",
    "\n",
    "（2）计算采样处的积分值，对所有值取均值（根据大数定律），用均值来估算期望（再根据区间长度计算积分值）。\n",
    "\n",
    "这样的计算方法假设所有采样得到的值权重相同（对最后的积分值贡献相同），实际上，当数据分布不是均匀分布的时候，这个假设不成立。\n",
    "\n",
    "重要性采样对每处采样赋予不同的权重。\n",
    "\n",
    "> $E[f] = \\int f(x) \\frac{p(x)}{q(x)} q(x) dx \\approx \\frac{1}{S} \\sum_{s=1}^{S} w_s f(x^s) = \\hat I$。\n",
    "\n",
    "与拒绝采样不同，重要性采样每次采样的样本都会使用，但是赋予不同的权重。\n",
    "\n",
    "<b>采样过程</b>:\n",
    "\n",
    "（1）从参考分布$q(x)$中采样$N$个样本；\n",
    "\n",
    "（2）计算每个样本的权重$w(x_i) = p(x_i) / q(x_i)$，然后归一化$w(x_i)' = w(x_i) / \\sum_{s=i}^{N} w(x_s)$；\n",
    "\n",
    "（3）按照归一化权重重新采样\n",
    "\n",
    "> 问题：$q(x)$如何选取？"
   ]
  },
  {
   "cell_type": "code",
   "execution_count": 56,
   "metadata": {
    "collapsed": true
   },
   "outputs": [],
   "source": [
    "def sampling(data, dist, n_samples=100):\n",
    "    \n",
    "    samples = []\n",
    "    \n",
    "    cdf = get_cdf(dist)\n",
    "    \n",
    "    for i in range(n_samples):\n",
    "        \n",
    "        u = np.random.uniform(0, 1)\n",
    "        \n",
    "        index = get_index(cdf, u)\n",
    "        \n",
    "        sample = data[index]\n",
    "        samples.append(sample)\n",
    "        \n",
    "    return samples\n",
    "\n",
    "def get_cdf(dist):\n",
    "    cdf = []\n",
    "    \n",
    "    c_p_i = 0\n",
    "    for p_i in (dist):\n",
    "        c_p_i = c_p_i + p_i\n",
    "        \n",
    "        cdf.append(c_p_i)\n",
    "        \n",
    "    return cdf\n",
    "\n",
    "def get_index(cdf, p):\n",
    "    \n",
    "    for i in range(len(cdf)):\n",
    "        if p <= cdf[i]:\n",
    "                return i\n",
    "        \n",
    "    return -1"
   ]
  },
  {
   "cell_type": "code",
   "execution_count": 88,
   "metadata": {},
   "outputs": [],
   "source": [
    "w = []\n",
    "p = []\n",
    "q = []\n",
    "# sampling from q(x)\n",
    "for i in np.arange(-4, 4, 0.001):\n",
    "    q_i = np.random.uniform(-4, 4)\n",
    "    q.append(q_i)\n",
    "    \n",
    "    p_i = 1. / math.sqrt(2 * math.pi) * math.exp(- i ** 2 / 2)\n",
    "    p.append(p_i)\n",
    "    \n",
    "    w.append(p_i / abs(q_i))\n",
    "\n",
    "# normalize weight    \n",
    "w = list(map(lambda x : x / sum(w), w))\n"
   ]
  },
  {
   "cell_type": "code",
   "execution_count": 91,
   "metadata": {},
   "outputs": [
    {
     "data": {
      "image/png": "[encoded data removed]",
      "text/plain": [
       "<matplotlib.figure.Figure at 0x113abbac8>"
      ]
     },
     "metadata": {},
     "output_type": "display_data"
    }
   ],
   "source": [
    "# resampling\n",
    "samples = sampling(q, w, n_samples=10000)\n",
    "\n",
    "x = np.arange(-4, 4, 0.1)\n",
    "y = list(map(lambda i : 1. / math.sqrt(2 * math.pi) * math.exp(-i ** 2 / 2), x))\n",
    "plt.plot(x, y, 'o')\n",
    "plt.plot(x, y, 'r')\n",
    "plt.title('Importance Sampling')\n",
    "plt.hist(samples, normed = 1)\n",
    "plt.show()"
   ]
  },
  {
   "cell_type": "markdown",
   "metadata": {},
   "source": [
    "# 4. 马尔科夫链蒙特卡罗(MCMC)\n",
    "\n",
    "拒绝抽样与重要性抽样在数据维度很高时难以发挥作用（如$q(x)$难以选取）。\n",
    "\n",
    "## MCMC采样基本原理\n",
    "\n",
    "> 构造马尔科夫链及转移矩阵，使得马尔科夫链达到平稳状态时收敛到待抽样的目标分布$p(x)$。\n",
    "\n",
    "## 细致平稳条件\n",
    "> 如果非周期马氏链的转移矩阵$T(i, j)$以及分布$p(x)$满足\n",
    "\n",
    "> $p(i)T(i,j) = p(j)T(j,i)$, for all $i, j$. \n",
    "\n",
    "> 则$p(x)$是马氏链上的平稳分布，上式被称为细致平稳条件。\n",
    "\n",
    "如果细致平稳条件成立，则可抽样达到平稳分布之后的马氏链，即为待采样分布$p(x)$。\n",
    "\n",
    "\n",
    "## Metropolis-Hastings 方法\n",
    "\n",
    "如果细致平稳条件不成立，引入一个对称参考分布$A(i,j)=A(j,i)$，使得\n",
    "\n",
    "> $p(i)T(i,j)A(i,j) = p(j)T(j,i)A(j,i)$\n",
    "\n",
    "+ 按照对称性，取$A(i,j)=p(j)T(j,i)$，$A(j,i)=p(i)T(i,j)$，则将普通的转移矩阵为$T$的马氏链变成转移矩阵为$A$的马氏链。转变后的马氏链满足细致平稳条件，马氏链的平稳分布是$p(x)$。\n",
    "\n",
    "+ $A(i,j)$可以看做是接受率，如果接受率太小，会影响抽样效率。可以将等式两边同比例放大，将$A(i,j)$与$A(j,i)$两个中较大的一个放大到1，从而提高采样中的跳转接受率。$A(i,j)=min\\{\\frac{p(j)T(j,i)}{p(i)T(i,j)}, 1\\}$。\n",
    "\n",
    "<b>采样过程</b>\n",
    "\n",
    "(1)随机初始化马氏链$X_0=x_0$；\n",
    "\n",
    "(2)对$t$=0,1,...，循环以下采样过程:\n",
    "> + 第$t$个时刻马氏链状态为$X_t=x_t$，采样$y=T(x_t, y)$;\n",
    "> + 从均匀分布$u\\sim U(0,1)$中采样;\n",
    "> + 计算接受率$A(x_t,y)=min\\{\\frac{p(x)T(y,x_t)}{p(x_t)T(x_t,y)}, 1\\}$;\n",
    "> + 如果$u<r$，接受转移，$X_{t+1}=y$；否则拒绝转移，$X_{t+1}=x_t$。\n",
    "\n",
    "<b>问题</b>：\n",
    "\n",
    "(1) 如何确定转移矩阵$T(x, x')$?\n",
    "> + 对称或者不对称。\n",
    "\n",
    "> + 对称转移矩阵：选择高斯分布或者均匀分布（以当前状态为中心）\n",
    "\n",
    "> + 非对称转移矩阵：Log-normal\n",
    "\n",
    "(2) 怎么验证马氏链是否已经收敛？\n",
    "\n",
    "> Gelman-Rubin convergence diagnostic"
   ]
  },
  {
   "cell_type": "code",
   "execution_count": 147,
   "metadata": {
    "collapsed": true
   },
   "outputs": [],
   "source": [
    "def move():\n",
    "    mu = 1\n",
    "    sigma = 2\n",
    "    return np.random.normal(mu, sigma)\n",
    "\n",
    "def proposal(x, y):\n",
    "    mu = 1\n",
    "    sigma = 2\n",
    "    return 1. / math.sqrt(2 * math.pi * sigma) * math.exp(- (x - mu) ** 2 / (2 * sigma ** 2))"
   ]
  },
  {
   "cell_type": "code",
   "execution_count": 158,
   "metadata": {},
   "outputs": [],
   "source": [
    "samples = []\n",
    "\n",
    "xt = np.random.uniform(0, 1)\n",
    "\n",
    "for i in range(1000000):\n",
    "        # norm, use indpendent proposal distribution, T(x, x') = T(x)\n",
    "        y = move()\n",
    "\n",
    "        t_xt_y = proposal(xt, y)\n",
    "        t_y_xt = proposal(y, xt)\n",
    "\n",
    "        p_xt = 1. / math.sqrt(2 * math.pi) * math.exp(-xt ** 2 / 2)\n",
    "        p_y = 1. / math.sqrt(2 * math.pi) * math.exp(-y ** 2 / 2)\n",
    "        \n",
    "        u = np.random.uniform(0, 1)\n",
    "        \n",
    "        r = min(p_y * t_y_xt / (p_xt * t_xt_y), 1)\n",
    "        \n",
    "        if u <= r:\n",
    "            x_t = y\n",
    "        \n",
    "        if i > 900000:\n",
    "            samples.append(x_t)\n",
    "    "
   ]
  },
  {
   "cell_type": "code",
   "execution_count": 160,
   "metadata": {},
   "outputs": [
    {
     "data": {
      "image/png": "[encoded data removed]",
      "text/plain": [
       "<matplotlib.figure.Figure at 0x1135af128>"
      ]
     },
     "metadata": {},
     "output_type": "display_data"
    }
   ],
   "source": [
    "plt.hist(samples, normed=1)\n",
    "\n",
    "mu = 0\n",
    "sigma = 1\n",
    "x = np.linspace(mu - 3*sigma, mu + 3*sigma, 100)\n",
    "plt.title('Metropolis-Hastings Sampling')\n",
    "plt.plot(x, mlab.normpdf(x, mu, sigma))\n",
    "plt.show()"
   ]
  },
  {
   "cell_type": "markdown",
   "metadata": {},
   "source": [
    "## Gibbs Sampling 方法\n",
    "\n",
    "在高维的情况下，由于接受率$A(i,j)$通常小于1，会存在拒绝转移的情况，从而Metropolis-Hastings方法不够高效。如果存在一个转移矩阵$Q$，使得接受率$A(i,j)=1$，则抽样效率会大大提高。\n",
    "\n",
    "对于$K$维分布$p(\\vec{x})$，如果在抽样过程中只有第$k$维变量$x_k$参与计算，除去第$k$维的其它维度$\\vec{x_{-k}}$保持不变。如果令\n",
    "\n",
    "> $T_{k}(\\vec{x^i}, \\vec{x^j}) = p(x_k^j|\\vec{x_{-k}^i}) $\n",
    "\n",
    "则接受率\n",
    "\n"
   ]
  },
  {
   "cell_type": "markdown",
   "metadata": {},
   "source": [
    "> $A_k(\\vec{x^i}, \\vec{x^j}) = \\frac{ p(\\vec{x^j})  T_k(\\vec{x^j}, \\vec{x^i})}{p(\\vec{x^i})  T_k(\\vec{x^i}, \\vec{x^j})} = \\frac{p(x_k^j|\\vec{x_{-k}^j})p(\\vec{x_{-k}^j})p(x_k^i|\\vec{x_{-k}^j})}{p(x_k^i|\\vec{x_{-k}^i})p(\\vec{x_{-k}^i})p(x_k^j|\\vec{x_{-k}^i})} = \\frac{p(\\vec{x_{-k}^j})}{p(\\vec{x_{-k}^i})}=1 $, 因为$p(\\vec{x_{-k}^i})=p(\\vec{x_{-k}^j})$。"
   ]
  },
  {
   "cell_type": "markdown",
   "metadata": {},
   "source": [
    "<b>采样过程</b>\n",
    "\n",
    "(1)随机初始化向量$\\{\\vec{x_k^0}:k=1,2,...K\\}$\n",
    "\n",
    "(2)对$t=0,1,2,...$循环采样:\n",
    "> + $\\vec{x_1^{t+1}}\\sim p(x_1|x_2^t, x_3^t, ..., x_K^t)$ \n",
    "\n",
    "> + $\\vec{x_2^{t+1}}\\sim p(x_2|x_1^{t+1}, x_3^t, ..., x_K^t)$ \n",
    "\n",
    "> + ...\n",
    "\n",
    "> + $\\vec{x_K^{t+1}}\\sim p(x_K|x_1^{t+1}, x_2^{t+1}, ..., x_{K-1}^{t+1})$ \n",
    "\n",
    "坐标轴的采样不一定要按照从1到$K$的顺序。"
   ]
  },
  {
   "cell_type": "code",
   "execution_count": null,
   "metadata": {
    "collapsed": true
   },
   "outputs": [],
   "source": []
  }
 ],
 "metadata": {
  "kernelspec": {
   "display_name": "Python 3",
   "language": "python",
   "name": "python3"
  },
  "language_info": {
   "codemirror_mode": {
    "name": "ipython",
    "version": 3
   },
   "file_extension": ".py",
   "mimetype": "text/x-python",
   "name": "python",
   "nbconvert_exporter": "python",
   "pygments_lexer": "ipython3",
   "version": "3.6.3"
  }
 },
 "nbformat": 4,
 "nbformat_minor": 2
}
