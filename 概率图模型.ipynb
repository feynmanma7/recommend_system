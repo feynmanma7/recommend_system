{
 "cells": [
  {
   "cell_type": "markdown",
   "metadata": {},
   "source": [
    "<h1>概率图模型采样方法</h1>\n",
    "\n",
    "> <b>解决问题</b>\n",
    "\n",
    "> 从数据分布中采样，尤其是高维数据分布\n",
    "\n",
    "参考文献：\n",
    "\n",
    "[1] Pattern recognition and machine learning, Chapter 11.\n",
    "\n",
    "[2] Machine Learning, A Probabilistic Perspective, Chapter 23, 24.\n",
    "\n",
    "# 0. 采样 (Sampling)\n",
    "\n",
    "假设有一个分布，一共三个离散值[A, B, C]，其概率分布为[0.3, 0.5, 0.2]。如果需要从该分布中采样一系列样本，一个直观的做法是从$u\\sim U(0, 1)$中采样。\n",
    "\n",
    "+ $x = A, if 0 <= u <= 0.3$, \n",
    "+ $x = B, if 0.3 < u <= 0.8, (0.8=0.3 + 0.5)$, \n",
    "+ $x = C, if 0.8 < u <= 1,(1=0.3 + 0.5 + 0.2)$.\n",
    "\n",
    "因此，可以通过计算待采样分布的累计概率函数，通过均匀分布来抽样标准分布。\n",
    "\n",
    "\n",
    "# 1. 标准分布直接采样 （Sampling from Standard Distribution）\n",
    "\n",
    ">定理: $F$是我们要采样的函数$p(x)$的累积密度函数(cdf)，如果$u\\sim U(0, 1)$， 则$F^{-1}(u)\\sim F$.\n",
    ">证明见MLAPP.\n",
    "\n",
    "采样过程：\n",
    "\n",
    "（1）采样$u\\sim U(0, 1)$；\n",
    "\n",
    "（2）计算$x=F^{-1}(u)$。\n",
    "\n",
    "直接采样需要计算累积密度函数的逆函数，如果累计密度函数或者逆函数难以计算，则该方法不适用。\n",
    "\n",
    "\n"
   ]
  },
  {
   "cell_type": "markdown",
   "metadata": {},
   "source": [
    "# 2. 拒绝采样 （Rejection Sampling）\n",
    "\n",
    "如果待采样分布$p(x)$难以直接采样，建立一个参考分布$q(x)$，使得对于某些固定的参数$M$，满足$Mq(x)\\geq \\tilde{p}(x)$。其中$\\tilde{p}(x)$是$p(x)$的一个未归一化的版本，例如，$p(x)=\\tilde{p}(x)/Z_{p}$，$Z_{p}$是一个固定的归一化参数。则函数$Mq(x)$是$\\tilde{p}(x)$的一个上界包围。\n",
    "\n",
    "采样过程：\n",
    "\n",
    "（1）采样$x\\sim q(x)$；\n",
    "\n",
    "（2）采样$u\\sim U(0,1)$；\n",
    "\n",
    "（3）接受率$r=\\frac{\\tilde{p}(x)}{Mq(x)}$，如果$u<r$，接受本次采样，否则拒绝；\n",
    "\n",
    "拒绝采样的$M$不好设置，设置的过小，$q(x)$无法全部包围住$p(x)$；设置的过大，则接受率太低，采样效率太低。也要求$q(x)$既便于采样，又要从形状上比较接近$p(x)$，在高维情况或者$p(x)$很复杂的情况下难以满足。\n",
    "\n",
    "> 问题：(1)$q(x)$如何选取？(2)$M$如何确定？\n"
   ]
  },
  {
   "cell_type": "markdown",
   "metadata": {},
   "source": [
    "# 3. 重要性采样 （Importance Sampling）\n",
    "\n",
    "如果计算积分（或者面积，比如通过计算面积来估计$\\pi$），\n",
    "\n",
    "（1）采样该积分定义区间上的均匀分布$u\\sim U(a,b)$；\n",
    "\n",
    "（2）计算采样处的积分值，对所有值取均值（根据大数定律），用均值来估算期望（再根据区间长度计算积分值）。\n",
    "\n",
    "这样的计算方法假设所有采样得到的值权重相同（对最后的积分值贡献相同），实际上，当数据分布不是均匀分布的时候，这个假设不成立。\n",
    "\n",
    "重要性采样对每处采样赋予不同的权重。\n",
    "\n",
    "$E[f] = \\int f(x) \\frac{p(x)}{q(x)} q(x) dx \\approx \\frac{1}{S} \\sum_{s=1}^{S} w_s f(x^s) = \\hat I$。\n",
    "\n",
    "与拒绝采样不同，重要性采样每次采样的样本都会使用，但是赋予不同的权重。\n",
    "\n",
    "> 问题：$q(x)$如何选取？"
   ]
  },
  {
   "cell_type": "code",
   "execution_count": null,
   "metadata": {
    "collapsed": true
   },
   "outputs": [],
   "source": []
  }
 ],
 "metadata": {
  "kernelspec": {
   "display_name": "Python 3",
   "language": "python",
   "name": "python3"
  },
  "language_info": {
   "codemirror_mode": {
    "name": "ipython",
    "version": 3
   },
   "file_extension": ".py",
   "mimetype": "text/x-python",
   "name": "python",
   "nbconvert_exporter": "python",
   "pygments_lexer": "ipython3",
   "version": "3.6.3"
  }
 },
 "nbformat": 4,
 "nbformat_minor": 2
}
